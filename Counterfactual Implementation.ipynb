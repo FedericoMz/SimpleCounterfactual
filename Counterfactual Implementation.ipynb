{
 "cells": [
  {
   "cell_type": "code",
   "execution_count": 50,
   "id": "74be3292",
   "metadata": {},
   "outputs": [],
   "source": [
    "import pandas as pd\n",
    "import numpy as np\n",
    "from itertools import combinations, product\n",
    "from sklearn import tree"
   ]
  },
  {
   "cell_type": "code",
   "execution_count": 51,
   "id": "40aeb4c8",
   "metadata": {},
   "outputs": [],
   "source": [
    "N_BINS = 10 #bin for continuos values \n",
    "N_VAR = 2 #max n. features to be modified\n",
    "MAX = 5 #max counterfactuals\n",
    "\n",
    "\n",
    "cats = ['marital-status', 'occupation', 'relationship', 'race', 'sex', 'native-country'] #categorical values\n",
    "target = 'income' #target value\n"
   ]
  },
  {
   "cell_type": "code",
   "execution_count": 52,
   "id": "e4dccd75",
   "metadata": {},
   "outputs": [],
   "source": [
    "df = pd.read_json(\"adult_train.json\")\n",
    "Y = list(df[target])\n",
    "Y = [bool(y) for y in Y]\n",
    "X = df.loc[:, df.columns!=target]\n"
   ]
  },
  {
   "cell_type": "code",
   "execution_count": 53,
   "id": "2b2edb02",
   "metadata": {},
   "outputs": [],
   "source": [
    "binned_X = X.copy()\n",
    "feats = dict()\n",
    "for f in X.columns:\n",
    "    if f in cats:\n",
    "        feats[f] = X[f].unique()\n",
    "    else:\n",
    "        if len(X[f].unique()) <= N_BINS:\n",
    "            feats[f] = X[f].unique()\n",
    "        else:\n",
    "            binned_X['bins'] = pd.cut(X[f], N_BINS)\n",
    "            binned_X['median'] = binned_X.groupby('bins')[f].transform('median')\n",
    "            feats[f] = binned_X['median'].unique()"
   ]
  },
  {
   "cell_type": "code",
   "execution_count": 54,
   "id": "e675e001",
   "metadata": {},
   "outputs": [],
   "source": [
    "model = tree.DecisionTreeClassifier()\n",
    "model = model.fit(X, Y)"
   ]
  },
  {
   "cell_type": "code",
   "execution_count": 55,
   "id": "f002a524",
   "metadata": {},
   "outputs": [],
   "source": [
    "all_combinations = []\n",
    "for i in range(N_VAR):\n",
    "    combination = []\n",
    "    for feat_comb in combinations(feats.keys(), i+1):\n",
    "        combination.append(feat_comb)\n",
    "    all_combinations.append(combination)"
   ]
  },
  {
   "cell_type": "code",
   "execution_count": 65,
   "id": "37415c54",
   "metadata": {},
   "outputs": [],
   "source": [
    "ok_feats = []\n",
    "all_cf= []\n",
    "\n",
    "for combination in all_combinations:\n",
    "    for feat_set in combination:\n",
    "        if len([f for f in feat_set if f in ok_feats]) == 0:\n",
    "            list_of_values = []\n",
    "            for f in feat_set:\n",
    "                list_of_values.append(feats[f])\n",
    "            cf_x = list(x.values[0])\n",
    "            cf_x_model = x.copy()\n",
    "            for val_comb in product(*list_of_values):\n",
    "                if len([f for f in feat_set if f in ok_feats]) == 0 and len(all_cf) < MAX:\n",
    "                    for val, f in zip(val_comb, feat_set):\n",
    "                        idx = list(feats.keys()).index(f)\n",
    "                        cf_x[idx] = val\n",
    "                        cf_x_model.at[0,f]=val\n",
    "                    if model.predict(cf_x_model) != model.predict(x) and cf_x_model.values.tolist()[0] != x.values.tolist()[0]:\n",
    "                        all_cf.append(cf_x_model)\n",
    "                        for f in feat_set:\n",
    "                            ok_feats.append(f)\n",
    "                    if len(all_cf) == MAX:\n",
    "                        break"
   ]
  },
  {
   "cell_type": "code",
   "execution_count": null,
   "id": "84c02136",
   "metadata": {},
   "outputs": [],
   "source": []
  },
  {
   "cell_type": "code",
   "execution_count": null,
   "id": "3d3d6874",
   "metadata": {},
   "outputs": [],
   "source": []
  }
 ],
 "metadata": {
  "kernelspec": {
   "display_name": "Python 3 (ipykernel)",
   "language": "python",
   "name": "python3"
  },
  "language_info": {
   "codemirror_mode": {
    "name": "ipython",
    "version": 3
   },
   "file_extension": ".py",
   "mimetype": "text/x-python",
   "name": "python",
   "nbconvert_exporter": "python",
   "pygments_lexer": "ipython3",
   "version": "3.11.0"
  }
 },
 "nbformat": 4,
 "nbformat_minor": 5
}
